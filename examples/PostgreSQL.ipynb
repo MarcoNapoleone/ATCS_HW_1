{
 "cells": [
  {
   "cell_type": "markdown",
   "metadata": {},
   "source": [
    "```\n",
    "pip install psycopg2-binary\n",
    "```\n"
   ]
  },
  {
   "cell_type": "code",
   "metadata": {
    "ExecuteTime": {
     "end_time": "2025-03-27T10:17:24.565910Z",
     "start_time": "2025-03-27T10:17:24.518146Z"
    }
   },
   "source": [
    "import psycopg2"
   ],
   "outputs": [],
   "execution_count": 1
  },
  {
   "cell_type": "markdown",
   "metadata": {},
   "source": [
    "## Setup PostgreSQL\n"
   ]
  },
  {
   "cell_type": "code",
   "metadata": {
    "ExecuteTime": {
     "end_time": "2025-03-27T10:17:24.598060Z",
     "start_time": "2025-03-27T10:17:24.590378Z"
    }
   },
   "source": [
    "def connect_postgresql():\n",
    "    # Open database connection\n",
    "    # Connect to the database\n",
    "    db = psycopg2.connect(\n",
    "        \"dbname=BIRD user=postgres host=localhost password=postgres port=5432\"\n",
    "    )\n",
    "    return db\n",
    "\n",
    "\n",
    "def execute_postgresql_query(cursor, query):\n",
    "    \"\"\"Execute a MySQL query.\"\"\"\n",
    "    cursor.execute(query)\n",
    "    result = cursor.fetchall()\n",
    "    return result\n",
    "\n",
    "\n",
    "def perform_query_on_postgresql_databases(query):\n",
    "    db = connect_postgresql()\n",
    "    cursor = db.cursor()\n",
    "    result = execute_postgresql_query(cursor, query)\n",
    "    db.close()\n",
    "    return result"
   ],
   "outputs": [],
   "execution_count": 2
  },
  {
   "cell_type": "code",
   "metadata": {
    "ExecuteTime": {
     "end_time": "2025-03-27T10:17:24.744467Z",
     "start_time": "2025-03-27T10:17:24.741346Z"
    }
   },
   "source": [
    "postgresql_query = \"SELECT CAST(SUM(CASE WHEN Currency = 'EUR' THEN 1 ELSE 0 END) AS REAL) / NULLIF(SUM(CASE WHEN Currency = 'CZK' THEN 1 ELSE 0 END), 0) FROM customers\""
   ],
   "outputs": [],
   "execution_count": 3
  },
  {
   "cell_type": "code",
   "metadata": {
    "ExecuteTime": {
     "end_time": "2025-03-27T10:17:24.842916Z",
     "start_time": "2025-03-27T10:17:24.791019Z"
    }
   },
   "source": [
    "postgresql_result = perform_query_on_postgresql_databases(postgresql_query)"
   ],
   "outputs": [],
   "execution_count": 4
  },
  {
   "cell_type": "code",
   "metadata": {
    "ExecuteTime": {
     "end_time": "2025-03-27T10:17:24.932015Z",
     "start_time": "2025-03-27T10:17:24.923507Z"
    }
   },
   "source": [
    "postgresql_result"
   ],
   "outputs": [
    {
     "data": {
      "text/plain": [
       "[(0.06572769953051644,)]"
      ]
     },
     "execution_count": 5,
     "metadata": {},
     "output_type": "execute_result"
    }
   ],
   "execution_count": 5
  },
  {
   "cell_type": "code",
   "metadata": {
    "ExecuteTime": {
     "end_time": "2025-03-27T10:17:25.027574Z",
     "start_time": "2025-03-27T10:17:25.024198Z"
    }
   },
   "source": [],
   "outputs": [],
   "execution_count": null
  }
 ],
 "metadata": {
  "kernelspec": {
   "display_name": "pytorch",
   "language": "python",
   "name": "python3"
  },
  "language_info": {
   "codemirror_mode": {
    "name": "ipython",
    "version": 3
   },
   "file_extension": ".py",
   "mimetype": "text/x-python",
   "name": "python",
   "nbconvert_exporter": "python",
   "pygments_lexer": "ipython3",
   "version": "3.11.5"
  },
  "orig_nbformat": 4
 },
 "nbformat": 4,
 "nbformat_minor": 2
}
